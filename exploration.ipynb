{
 "cells": [
  {
   "cell_type": "code",
   "execution_count": 3,
   "metadata": {},
   "outputs": [],
   "source": [
    "# https://github.com/jin-s13/COCO-WholeBody\n",
    "# https://cocodataset.org/#download\n",
    "# https://cocodataset.org/#keypoints-2017"
   ]
  },
  {
   "cell_type": "code",
   "execution_count": null,
   "metadata": {},
   "outputs": [],
   "source": [
    "\"\"\"\n",
    "Sources\n",
    "\n",
    "https://github.com/nicknochnack/FaceDetection/blob/main/FaceDetection.ipynb\n",
    "https://towardsdatascience.com/bounding-box-prediction-from-scratch-using-pytorch-a8525da51ddc\n",
    "\n",
    "http://shuoyang1213.me/WIDERFACE/\n",
    "https://github.com/jin-s13/COCO-WholeBody/blob/master/data_format.md\n",
    "\n",
    "\"\"\""
   ]
  },
  {
   "cell_type": "code",
   "execution_count": 4,
   "metadata": {},
   "outputs": [],
   "source": [
    "import json\n",
    "import numpy as np\n",
    "import matplotlib.pyplot as plt\n",
    "from PIL import Image\n",
    "\n",
    "from NotebookNotifications.Notifications import notify"
   ]
  },
  {
   "cell_type": "code",
   "execution_count": 5,
   "metadata": {},
   "outputs": [
    {
     "name": "stdout",
     "output_type": "stream",
     "text": [
      "['info', 'licenses', 'images', 'annotations', 'categories']\n"
     ]
    }
   ],
   "source": [
    "# Read ids of train and validataion data\n",
    "train_path = \"data/coco_wholebody_train_v1.0.json\"\n",
    "test_path = \"data/coco_wholebody_val_v1.0.json\"\n",
    "\n",
    "f = open(train_path)\n",
    "train_dict = json.load(f)\n",
    "\n",
    "f = open(test_path)\n",
    "test_dict = json.load(f)\n",
    "\n",
    "print(list(train_dict))"
   ]
  },
  {
   "cell_type": "code",
   "execution_count": 6,
   "metadata": {},
   "outputs": [],
   "source": [
    "# Get the ids of the images in the train and test (dont use all 100k)\n",
    "N_train = 1000\n",
    "N_test = 500\n",
    "\n",
    "train_ids = [im['id'] for im in train_dict[\"images\"][:N_train]]\n",
    "train_paths = [im['file_name'] for im in train_dict[\"images\"][:N_train]]\n",
    "\n",
    "test_ids = [im['id'] for im in test_dict[\"images\"][:N_test]]\n",
    "test_paths = [im['file_name'] for im in test_dict[\"images\"][:N_test]]"
   ]
  },
  {
   "cell_type": "code",
   "execution_count": 25,
   "metadata": {},
   "outputs": [],
   "source": [
    "# Read the images (X)\n",
    "X_train = [np.asarray(Image.open(\"data/train2017/\" + name)) for name in train_paths]\n",
    "X_test = [np.asarray(Image.open(\"data/val2017/\" + name)) for name in test_paths]\n",
    "\n",
    "X_train = np.array(X_train, dtype=\"object\")\n",
    "X_test = np.array(X_test, dtype=\"object\")\n",
    "\n",
    "\n",
    "# Read the annotations (y)\n",
    "y_train = [im['face_box'] for im in train_dict['annotations'] if im['image_id'] in train_ids]\n",
    "y_test = [im['face_box'] for im in test_dict['annotations'] if im['image_id'] in test_ids]\n",
    "\n",
    "y_train = np.array(y_train, dtype=\"object\")\n",
    "y_test = np.array(y_test, dtype=\"object\")"
   ]
  },
  {
   "cell_type": "code",
   "execution_count": 26,
   "metadata": {},
   "outputs": [
    {
     "name": "stdout",
     "output_type": "stream",
     "text": [
      "X_train: (1000,)\n",
      "X_test: (500,)\n",
      "y_train: (1969, 4)\n",
      "y_test: (961, 4)\n"
     ]
    }
   ],
   "source": [
    "print(f\"X_train: {X_train.shape}\")\n",
    "print(f\"X_test: {X_test.shape}\")\n",
    "print(f\"y_train: {y_train.shape}\")\n",
    "print(f\"y_test: {y_test.shape}\")"
   ]
  },
  {
   "cell_type": "code",
   "execution_count": 19,
   "metadata": {},
   "outputs": [],
   "source": [
    "anno_ids = [im['id'] for im in train_dict['annotations']]"
   ]
  },
  {
   "cell_type": "code",
   "execution_count": 24,
   "metadata": {},
   "outputs": [
    {
     "data": {
      "text/plain": [
       "False"
      ]
     },
     "execution_count": 24,
     "metadata": {},
     "output_type": "execute_result"
    }
   ],
   "source": [
    "train_ids[1] in anno_ids"
   ]
  },
  {
   "cell_type": "code",
   "execution_count": 10,
   "metadata": {},
   "outputs": [],
   "source": [
    "annotations = [(x['id'], x['face_box']) for x in train_dict['annotations']]"
   ]
  },
  {
   "cell_type": "code",
   "execution_count": 11,
   "metadata": {},
   "outputs": [],
   "source": [
    "notify()"
   ]
  }
 ],
 "metadata": {
  "kernelspec": {
   "display_name": "Python 3.9.6",
   "language": "python",
   "name": "python3"
  },
  "language_info": {
   "codemirror_mode": {
    "name": "ipython",
    "version": 3
   },
   "file_extension": ".py",
   "mimetype": "text/x-python",
   "name": "python",
   "nbconvert_exporter": "python",
   "pygments_lexer": "ipython3",
   "version": "3.9.6"
  },
  "orig_nbformat": 4,
  "vscode": {
   "interpreter": {
    "hash": "c6e4e9f98eb68ad3b7c296f83d20e6de614cb42e90992a65aa266555a3137d0d"
   }
  }
 },
 "nbformat": 4,
 "nbformat_minor": 2
}
